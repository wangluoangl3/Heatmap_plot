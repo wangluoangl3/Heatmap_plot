{
 "cells": [
  {
   "cell_type": "code",
   "execution_count": 1,
   "id": "2c99606e",
   "metadata": {},
   "outputs": [],
   "source": [
    "from ScenarioHeatMap.SHM import *\n",
    "def demo_1():\n",
    "    \"\"\"\n",
    "    # 无底图使用，无底图时必须图片给定长宽\n",
    "    :return:\n",
    "    \"\"\"\n",
    "    data = [[50, 50], [20, 20]]  # 热力点坐标\n",
    "    hm = HeatMap(data, width=100, height=100)  # width是宽即x轴\n",
    "    hm.data_transform([0, 0,100, 100])\n",
    "    hm.heatmap()\n",
    "    max_color, min_color = hm.get_max_min_heat()"
   ]
  },
  {
   "cell_type": "code",
   "execution_count": 2,
   "id": "5ffd4343",
   "metadata": {},
   "outputs": [
    {
     "data": {
      "image/png": "[encoded data removed]",
      "text/plain": [
       "<Figure size 432x288 with 2 Axes>"
      ]
     },
     "metadata": {
      "needs_background": "light"
     },
     "output_type": "display_data"
    }
   ],
   "source": [
    "demo_1()"
   ]
  },
  {
   "cell_type": "code",
   "execution_count": 3,
   "id": "4e17a4c7",
   "metadata": {},
   "outputs": [
    {
     "data": {
      "text/plain": [
       "<AxesSubplot:>"
      ]
     },
     "execution_count": 3,
     "metadata": {},
     "output_type": "execute_result"
    },
    {
     "data": {
      "image/png": "[encoded data removed]",
      "text/plain": [
       "<Figure size 432x288 with 2 Axes>"
      ]
     },
     "metadata": {
      "needs_background": "light"
     },
     "output_type": "display_data"
    }
   ],
   "source": [
    "import seaborn as sns\n",
    "import pandas as pd\n",
    "# 创建一个数据框\n",
    "df = pd.DataFrame({'A':[1, 2, 3, 4, 5],\n",
    "                  'B':[2, 3, 1, 5, 4],\n",
    "                  'C':[3, 1, 2, 4, 5],\n",
    "                  'D':[4, 5, 1, 2, 3]})\n",
    "# 计算相关系数\n",
    "corr = df.corr()\n",
    "# 绘制热力图\n",
    "sns.heatmap(corr, annot=True, cmap='coolwarm')"
   ]
  },
  {
   "cell_type": "code",
   "execution_count": 4,
   "id": "36978f9e",
   "metadata": {},
   "outputs": [],
   "source": [
    "import cv2\n",
    "import numpy as np\n",
    "from PIL import Image\n",
    "from pyheatmap.heatmap import HeatMap\n",
    "import matplotlib.pyplot as plt"
   ]
  },
  {
   "cell_type": "code",
   "execution_count": 5,
   "id": "92c85c41",
   "metadata": {},
   "outputs": [],
   "source": [
    "def apply_heatmap(image, data):\n",
    "    \"\"\"image是原图，data是坐标\"\"\"\n",
    "    \"\"\"创建一个新的与原图大小一致的图像，color为0背景为黑色。这里olor为0背景为黑色。这里这样做是因为在绘制热力图的时候如果不选择背景图，画出来的图与原图大小不一致（根据点的坐标来的），导致无法对热力图和原图进行加权叠加，因此，这里我新建了一张背景图。\"\"\"\n",
    "    background = Image.new(\"RGB\", (image.shape[1], image.shape[0]), color=0)\n",
    "    #开始绘制热度图\n",
    "    hm = HeatMap(data)\n",
    "    hit_img = hm.heatmap(base=background, r=100) # background为背景图片，r为半径，默认为10\n",
    "    hit_img = cv2.cvtColor(np.asarray(hit_img), cv2.COLOR_RGB2BGR) # Image格式转换成cv2格式\n",
    "    overlay = image.copy()\n",
    "    alpha = 0.5 #设置覆盖图片的透明度\n",
    "    cv2.rectangle(overlay, (0, 0), (image.shape[1], image.shape[0]), (255, 0, 0), -1) # 设置蓝色为热度图基本蓝色\n",
    "    image = cv2.addWeighted(overlay, alpha, image, 1-alpha, 0) # 将背景热度图覆盖到原图\n",
    "    image = cv2.addWeighted(hit_img, alpha, image, 1-alpha, 0) # 将热度图覆盖到原图\n",
    "    return image\n",
    "    "
   ]
  },
  {
   "cell_type": "code",
   "execution_count": 6,
   "id": "5ce5f406",
   "metadata": {},
   "outputs": [],
   "source": [
    "# import cv2\n",
    "# img = cv2.imread(\"./person.jpg\")\n",
    "# cv2.namedWindow(\"image\")\n",
    "# while(1):\n",
    "#     cv2.imshow(\"image\", img)\n",
    "#     if cv2.waitKey()&0xFF==ord('q'):\n",
    "#         break\n",
    "# cv2.destroyAllWindows()"
   ]
  },
  {
   "cell_type": "code",
   "execution_count": 7,
   "id": "e802c5b3",
   "metadata": {},
   "outputs": [],
   "source": [
    "\"\"\"利用opencv获取图像中像素点坐标\"\"\"\n",
    "import cv2\n",
    "img = cv2.imread('./person.jpg')\n",
    "\n",
    "def on_EVENT_LBUTTONDOWN(event, x, y, flags, param):\n",
    "    if event==cv2.EVENT_LBUTTONDOWN:\n",
    "        xy = \"%d, %d\" % (x, y)\n",
    "        print(x, y)\n",
    "        cv2.circle(img, (x, y), 2, (0, 0, 255))\n",
    "        cv2.putText(img, xy, (x, y), cv2.FONT_HERSHEY_PLAIN, 1.0, (0, 0, 255))\n",
    "        cv2.imshow(\"image\", img)\n",
    "        \n",
    "cv2.namedWindow(\"image\")\n",
    "cv2.setMouseCallback(\"image\", on_EVENT_LBUTTONDOWN)\n",
    "while(1):\n",
    "    cv2.imshow(\"image\", img)\n",
    "    key = cv2.waitKey(5)&0xFF\n",
    "    if key == ord('q'):\n",
    "        break\n",
    "cv2.destroyAllWindows()"
   ]
  },
  {
   "cell_type": "code",
   "execution_count": 8,
   "id": "483f1f81",
   "metadata": {},
   "outputs": [],
   "source": [
    "data = [[512, 290], [359, 301], [321, 240], [288, 248], [253, 198], [187, 231], [187, 160],\n",
    "       [201, 121], [70, 209], [96, 176], [84, 101], [100, 66], [111, 16]]"
   ]
  },
  {
   "cell_type": "code",
   "execution_count": 9,
   "id": "80182a52",
   "metadata": {},
   "outputs": [],
   "source": [
    "image = apply_heatmap(img, data)"
   ]
  },
  {
   "cell_type": "code",
   "execution_count": 10,
   "id": "7ff31d44",
   "metadata": {},
   "outputs": [],
   "source": [
    "while(1):\n",
    "    cv2.imshow(\"image\", image)\n",
    "    if cv2.waitKey()&0xFF==ord('q'):\n",
    "        break\n",
    "cv2.destroyAllWindows()"
   ]
  },
  {
   "cell_type": "code",
   "execution_count": 11,
   "id": "41577f8c",
   "metadata": {},
   "outputs": [
    {
     "data": {
      "text/plain": [
       "(400, 586, 3)"
      ]
     },
     "execution_count": 11,
     "metadata": {},
     "output_type": "execute_result"
    }
   ],
   "source": [
    "image.shape"
   ]
  },
  {
   "cell_type": "code",
   "execution_count": null,
   "id": "788dbd28",
   "metadata": {},
   "outputs": [],
   "source": []
  }
 ],
 "metadata": {
  "kernelspec": {
   "display_name": "Python3.9",
   "language": "python",
   "name": "python3"
  },
  "language_info": {
   "codemirror_mode": {
    "name": "ipython",
    "version": 3
   },
   "file_extension": ".py",
   "mimetype": "text/x-python",
   "name": "python",
   "nbconvert_exporter": "python",
   "pygments_lexer": "ipython3",
   "version": "3.9.12"
  }
 },
 "nbformat": 4,
 "nbformat_minor": 5
}
